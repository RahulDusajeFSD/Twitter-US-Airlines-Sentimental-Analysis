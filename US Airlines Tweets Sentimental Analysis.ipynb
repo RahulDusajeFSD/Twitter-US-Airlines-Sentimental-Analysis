{
 "cells": [
  {
   "cell_type": "code",
   "execution_count": 64,
   "metadata": {},
   "outputs": [],
   "source": [
    "import pandas as pd\n",
    "import numpy as np\n",
    "import matplotlib.pyplot as plt\n",
    "import os\n",
    "from sklearn.model_selection import train_test_split\n",
    "from tensorflow.keras.utils import to_categorical\n",
    "import math\n",
    "\n",
    "\n",
    "\n",
    "from tensorflow.keras.models import Sequential\n",
    "from tensorflow.keras.layers import Dense\n",
    "from tensorflow.keras.layers import Flatten\n",
    "from tensorflow.keras.layers import LSTM\n",
    "from tensorflow.keras.layers import GRU\n",
    "from tensorflow.keras.layers import BatchNormalization"
   ]
  },
  {
   "cell_type": "code",
   "execution_count": 37,
   "metadata": {},
   "outputs": [],
   "source": [
    "df = pd.read_csv(\"/home/rahul/Downloads/Tweets.csv\")"
   ]
  },
  {
   "cell_type": "code",
   "execution_count": 41,
   "metadata": {},
   "outputs": [],
   "source": [
    "df['airline_sentiment'] = df['airline_sentiment'].replace('neutral', 1)\n",
    "df['airline_sentiment'] = df['airline_sentiment'].replace('negative', 0)\n",
    "df['airline_sentiment'] = df['airline_sentiment'].replace('positive', 2)"
   ]
  },
  {
   "cell_type": "code",
   "execution_count": 214,
   "metadata": {},
   "outputs": [],
   "source": [
    "X = df['text']\n",
    "y = df['airline_sentiment']"
   ]
  },
  {
   "cell_type": "code",
   "execution_count": 218,
   "metadata": {},
   "outputs": [
    {
     "data": {
      "text/plain": [
       "'@VirginAmerica did you know that suicide is the second leading cause of death among teens 10-24'"
      ]
     },
     "execution_count": 218,
     "metadata": {},
     "output_type": "execute_result"
    }
   ],
   "source": [
    "X[10]"
   ]
  },
  {
   "cell_type": "code",
   "execution_count": 45,
   "metadata": {},
   "outputs": [],
   "source": [
    "from tensorflow.keras.preprocessing.text import Tokenizer\n",
    "from tensorflow.keras.preprocessing.text import text_to_word_sequence\n",
    "t = Tokenizer()\n",
    "t.fit_on_texts(X)"
   ]
  },
  {
   "cell_type": "code",
   "execution_count": 46,
   "metadata": {},
   "outputs": [],
   "source": [
    "# To get total unique words in tweets\n",
    "vocab_size = len(t.word_index) + 1    \n"
   ]
  },
  {
   "cell_type": "code",
   "execution_count": 49,
   "metadata": {},
   "outputs": [],
   "source": [
    "sequences = t.texts_to_sequences(X)"
   ]
  },
  {
   "cell_type": "code",
   "execution_count": 51,
   "metadata": {},
   "outputs": [],
   "source": [
    "# MAX TWEET SIZE\n",
    "def max_tweet():\n",
    "    for i in range(1, len(sequences)):\n",
    "        max_length = len(sequences[0])\n",
    "        if len(sequences[i]) > max_length:\n",
    "            max_length = len(sequences[i])\n",
    "    return max_length"
   ]
  },
  {
   "cell_type": "code",
   "execution_count": 54,
   "metadata": {},
   "outputs": [
    {
     "data": {
      "text/plain": [
       "30"
      ]
     },
     "execution_count": 54,
     "metadata": {},
     "output_type": "execute_result"
    }
   ],
   "source": [
    "tweet_num = max_tweet()\n",
    "tweet_num"
   ]
  },
  {
   "cell_type": "code",
   "execution_count": 68,
   "metadata": {},
   "outputs": [],
   "source": [
    "labels = to_categorical(np.asarray(y))"
   ]
  },
  {
   "cell_type": "code",
   "execution_count": null,
   "metadata": {},
   "outputs": [],
   "source": []
  },
  {
   "cell_type": "code",
   "execution_count": 55,
   "metadata": {},
   "outputs": [],
   "source": [
    "from tensorflow.keras.preprocessing.sequence import pad_sequences\n",
    "maxlen = tweet_num\n",
    "padded_X = pad_sequences(sequences, padding='post', maxlen=maxlen)"
   ]
  },
  {
   "cell_type": "code",
   "execution_count": 69,
   "metadata": {},
   "outputs": [],
   "source": [
    "from sklearn.model_selection import train_test_split\n",
    "\n",
    "X_train, X_test, y_train, y_test = train_test_split(padded_X, labels, test_size = 0.2, random_state = 0)"
   ]
  },
  {
   "cell_type": "code",
   "execution_count": 70,
   "metadata": {},
   "outputs": [
    {
     "name": "stdout",
     "output_type": "stream",
     "text": [
      "Loaded 1193514 word vectors.\n"
     ]
    }
   ],
   "source": [
    "embeddings_index = dict()\n",
    "f = open('/home/rahul/Downloads/glove.twitter.27B/glove.twitter.27B.100d.txt')\n",
    "for line in f:\n",
    "    values = line.split()\n",
    "    word = values[0]\n",
    "    coefs = np.asarray(values[1:], dtype='float32')\n",
    "    embeddings_index[word] = coefs\n",
    "f.close()\n",
    "print('Loaded %s word vectors.' % len(embeddings_index))"
   ]
  },
  {
   "cell_type": "code",
   "execution_count": 71,
   "metadata": {},
   "outputs": [],
   "source": [
    "# Because we're using GloVE, need to create a word embedding/word context matrix\n",
    "# Create a matrix of weights for words in the training set\n",
    "# One embedding for each word in the training set\n",
    "\n",
    "# Get all unique words in our training set: Tokenizer index\n",
    "# Find the corresponding weight vector in GloVe embedding\n",
    "\n",
    "# Define size of embedding matrix: number of unique words x embedding dim (100)\n",
    "embedding_matrix = np.zeros((vocab_size, 100))\n",
    "\n",
    "# fill in matrix\n",
    "for word, i in t.word_index.items():  # dictionary\n",
    "    embedding_vector = embeddings_index.get(word) # gets embedded vector of word from GloVe\n",
    "    if embedding_vector is not None:\n",
    "        # add to matrix\n",
    "        embedding_matrix[i] = embedding_vector # each row of matrix"
   ]
  },
  {
   "cell_type": "code",
   "execution_count": 72,
   "metadata": {},
   "outputs": [],
   "source": [
    "from tensorflow.keras.layers import Embedding\n",
    "\n",
    "# input is vocab_size, output is 100\n",
    "# weights from embedding matrix, set trainable = False\n",
    "embedding_layer = Embedding(input_dim=vocab_size, output_dim=100, weights=[embedding_matrix],\n",
    "                           input_length = tweet_num, trainable=False)"
   ]
  },
  {
   "cell_type": "code",
   "execution_count": 74,
   "metadata": {},
   "outputs": [
    {
     "name": "stdout",
     "output_type": "stream",
     "text": [
      "Model: \"sequential_1\"\n",
      "_________________________________________________________________\n",
      "Layer (type)                 Output Shape              Param #   \n",
      "=================================================================\n",
      "embedding_1 (Embedding)      (None, 30, 100)           1576900   \n",
      "_________________________________________________________________\n",
      "lstm_1 (LSTM)                (None, 256)               365568    \n",
      "_________________________________________________________________\n",
      "dense_1 (Dense)              (None, 3)                 771       \n",
      "=================================================================\n",
      "Total params: 1,943,239\n",
      "Trainable params: 366,339\n",
      "Non-trainable params: 1,576,900\n",
      "_________________________________________________________________\n"
     ]
    }
   ],
   "source": [
    "lstm_mod1 = Sequential()\n",
    "lstm_mod1.add(embedding_layer)\n",
    "lstm_mod1.add(LSTM(256, \n",
    "               dropout = 0.2, \n",
    "               recurrent_dropout = 0.5))\n",
    "lstm_mod1.add(Dense(3, activation='softmax'))\n",
    "lstm_mod1.compile(optimizer='adam', loss='categorical_crossentropy', metrics=['acc'])\n",
    "lstm_mod1.summary()"
   ]
  },
  {
   "cell_type": "code",
   "execution_count": 75,
   "metadata": {},
   "outputs": [
    {
     "name": "stdout",
     "output_type": "stream",
     "text": [
      "Epoch 1/100\n",
      "37/37 [==============================] - 11s 300ms/step - loss: 0.8186 - acc: 0.6375 - val_loss: 0.6913 - val_acc: 0.7277\n",
      "Epoch 2/100\n",
      "37/37 [==============================] - 11s 286ms/step - loss: 0.6237 - acc: 0.7519 - val_loss: 0.5813 - val_acc: 0.7746\n",
      "Epoch 3/100\n",
      "37/37 [==============================] - 11s 287ms/step - loss: 0.5649 - acc: 0.7716 - val_loss: 0.5634 - val_acc: 0.7759\n",
      "Epoch 4/100\n",
      "37/37 [==============================] - 11s 288ms/step - loss: 0.5514 - acc: 0.7812 - val_loss: 0.5467 - val_acc: 0.7806\n",
      "Epoch 5/100\n",
      "37/37 [==============================] - 11s 288ms/step - loss: 0.5331 - acc: 0.7860 - val_loss: 0.5419 - val_acc: 0.7840\n",
      "Epoch 6/100\n",
      "37/37 [==============================] - 11s 288ms/step - loss: 0.5343 - acc: 0.7844 - val_loss: 0.5246 - val_acc: 0.7917\n",
      "Epoch 7/100\n",
      "37/37 [==============================] - 11s 288ms/step - loss: 0.5288 - acc: 0.7904 - val_loss: 0.5189 - val_acc: 0.7930\n",
      "Epoch 8/100\n",
      "37/37 [==============================] - 11s 287ms/step - loss: 0.5114 - acc: 0.7931 - val_loss: 0.5154 - val_acc: 0.7862\n",
      "Epoch 9/100\n",
      "37/37 [==============================] - 11s 288ms/step - loss: 0.4961 - acc: 0.7985 - val_loss: 0.5087 - val_acc: 0.7947\n",
      "Epoch 10/100\n",
      "37/37 [==============================] - 11s 289ms/step - loss: 0.4860 - acc: 0.8080 - val_loss: 0.5141 - val_acc: 0.8028\n",
      "Epoch 11/100\n",
      "37/37 [==============================] - 11s 287ms/step - loss: 0.4764 - acc: 0.8054 - val_loss: 0.4978 - val_acc: 0.8011\n",
      "Epoch 12/100\n",
      "37/37 [==============================] - 11s 288ms/step - loss: 0.4654 - acc: 0.8124 - val_loss: 0.5122 - val_acc: 0.8062\n",
      "Epoch 13/100\n",
      "37/37 [==============================] - 14s 373ms/step - loss: 0.4608 - acc: 0.8184 - val_loss: 0.5170 - val_acc: 0.7964\n",
      "Epoch 14/100\n",
      "37/37 [==============================] - 13s 364ms/step - loss: 0.4517 - acc: 0.8207 - val_loss: 0.5122 - val_acc: 0.7934\n",
      "Epoch 15/100\n",
      "37/37 [==============================] - 13s 339ms/step - loss: 0.4505 - acc: 0.8148 - val_loss: 0.5246 - val_acc: 0.7921\n",
      "Epoch 16/100\n",
      "37/37 [==============================] - 11s 302ms/step - loss: 0.4310 - acc: 0.8311 - val_loss: 0.4888 - val_acc: 0.8071\n",
      "Epoch 17/100\n",
      "37/37 [==============================] - 11s 303ms/step - loss: 0.4133 - acc: 0.8361 - val_loss: 0.4812 - val_acc: 0.8096\n",
      "Epoch 18/100\n",
      "37/37 [==============================] - 12s 311ms/step - loss: 0.4092 - acc: 0.8385 - val_loss: 0.5332 - val_acc: 0.8054\n",
      "Epoch 19/100\n",
      "37/37 [==============================] - 12s 322ms/step - loss: 0.4048 - acc: 0.8377 - val_loss: 0.5127 - val_acc: 0.8067\n",
      "Epoch 20/100\n",
      "37/37 [==============================] - 12s 320ms/step - loss: 0.3986 - acc: 0.8437 - val_loss: 0.4898 - val_acc: 0.8024\n",
      "Epoch 21/100\n",
      "37/37 [==============================] - 11s 306ms/step - loss: 0.3799 - acc: 0.8500 - val_loss: 0.5005 - val_acc: 0.8101\n",
      "Epoch 22/100\n",
      "37/37 [==============================] - 12s 324ms/step - loss: 0.3816 - acc: 0.8504 - val_loss: 0.4962 - val_acc: 0.8045\n",
      "Epoch 23/100\n",
      "37/37 [==============================] - 11s 301ms/step - loss: 0.3630 - acc: 0.8571 - val_loss: 0.5019 - val_acc: 0.8148\n",
      "Epoch 24/100\n",
      "37/37 [==============================] - 11s 299ms/step - loss: 0.3561 - acc: 0.8590 - val_loss: 0.5184 - val_acc: 0.8135\n",
      "Epoch 25/100\n",
      "37/37 [==============================] - 11s 296ms/step - loss: 0.3368 - acc: 0.8684 - val_loss: 0.5231 - val_acc: 0.7990\n",
      "Epoch 26/100\n",
      "37/37 [==============================] - 11s 292ms/step - loss: 0.3371 - acc: 0.8681 - val_loss: 0.5301 - val_acc: 0.8054\n",
      "Epoch 27/100\n",
      "37/37 [==============================] - 11s 294ms/step - loss: 0.3220 - acc: 0.8743 - val_loss: 0.5212 - val_acc: 0.8105\n",
      "Epoch 28/100\n",
      "37/37 [==============================] - 11s 298ms/step - loss: 0.3116 - acc: 0.8782 - val_loss: 0.5269 - val_acc: 0.8088\n",
      "Epoch 29/100\n",
      "37/37 [==============================] - 11s 300ms/step - loss: 0.3036 - acc: 0.8820 - val_loss: 0.5311 - val_acc: 0.8028\n",
      "Epoch 30/100\n",
      "37/37 [==============================] - 11s 308ms/step - loss: 0.2921 - acc: 0.8864 - val_loss: 0.5708 - val_acc: 0.8084\n",
      "Epoch 31/100\n",
      "37/37 [==============================] - 11s 299ms/step - loss: 0.2812 - acc: 0.8907 - val_loss: 0.6180 - val_acc: 0.8007\n",
      "Epoch 32/100\n",
      "37/37 [==============================] - 11s 294ms/step - loss: 0.2850 - acc: 0.8887 - val_loss: 0.5299 - val_acc: 0.8096\n",
      "Epoch 33/100\n",
      "37/37 [==============================] - 11s 291ms/step - loss: 0.2650 - acc: 0.8984 - val_loss: 0.5774 - val_acc: 0.8067\n",
      "Epoch 34/100\n",
      "37/37 [==============================] - 11s 292ms/step - loss: 0.2518 - acc: 0.9006 - val_loss: 0.5775 - val_acc: 0.8028\n",
      "Epoch 35/100\n",
      "37/37 [==============================] - 11s 296ms/step - loss: 0.2408 - acc: 0.9067 - val_loss: 0.6056 - val_acc: 0.8122\n",
      "Epoch 36/100\n",
      "37/37 [==============================] - 11s 304ms/step - loss: 0.2419 - acc: 0.9052 - val_loss: 0.6208 - val_acc: 0.8118\n",
      "Epoch 37/100\n",
      "37/37 [==============================] - 11s 293ms/step - loss: 0.2296 - acc: 0.9147 - val_loss: 0.6082 - val_acc: 0.8084\n",
      "Epoch 38/100\n",
      "37/37 [==============================] - 11s 293ms/step - loss: 0.2222 - acc: 0.9158 - val_loss: 0.6592 - val_acc: 0.8105\n",
      "Epoch 39/100\n",
      "37/37 [==============================] - 12s 314ms/step - loss: 0.2103 - acc: 0.9178 - val_loss: 0.6692 - val_acc: 0.8020\n",
      "Epoch 40/100\n",
      "37/37 [==============================] - 12s 335ms/step - loss: 0.2049 - acc: 0.9224 - val_loss: 0.6218 - val_acc: 0.8050\n",
      "Epoch 41/100\n",
      "37/37 [==============================] - 11s 296ms/step - loss: 0.2053 - acc: 0.9202 - val_loss: 0.6750 - val_acc: 0.8109\n",
      "Epoch 42/100\n",
      "37/37 [==============================] - 15s 397ms/step - loss: 0.1819 - acc: 0.9304 - val_loss: 0.6865 - val_acc: 0.8054\n",
      "Epoch 43/100\n",
      "37/37 [==============================] - 25s 688ms/step - loss: 0.1876 - acc: 0.9294 - val_loss: 0.7259 - val_acc: 0.8131\n",
      "Epoch 44/100\n",
      "37/37 [==============================] - 26s 705ms/step - loss: 0.1799 - acc: 0.9315 - val_loss: 0.6591 - val_acc: 0.8050\n",
      "Epoch 45/100\n",
      "37/37 [==============================] - 27s 726ms/step - loss: 0.1724 - acc: 0.9360 - val_loss: 0.6831 - val_acc: 0.8143\n",
      "Epoch 46/100\n",
      "37/37 [==============================] - 26s 706ms/step - loss: 0.1747 - acc: 0.9340 - val_loss: 0.6610 - val_acc: 0.8101\n",
      "Epoch 47/100\n",
      "37/37 [==============================] - 25s 670ms/step - loss: 0.1598 - acc: 0.9399 - val_loss: 0.6888 - val_acc: 0.8143\n",
      "Epoch 48/100\n",
      "37/37 [==============================] - 25s 689ms/step - loss: 0.1490 - acc: 0.9451 - val_loss: 0.6790 - val_acc: 0.8135\n",
      "Epoch 49/100\n",
      "37/37 [==============================] - 26s 715ms/step - loss: 0.1430 - acc: 0.9457 - val_loss: 0.7515 - val_acc: 0.8062\n",
      "Epoch 50/100\n",
      "37/37 [==============================] - 26s 707ms/step - loss: 0.1604 - acc: 0.9397 - val_loss: 0.7476 - val_acc: 0.8071\n",
      "Epoch 51/100\n",
      "37/37 [==============================] - 26s 715ms/step - loss: 0.1365 - acc: 0.9511 - val_loss: 0.8577 - val_acc: 0.8062\n",
      "Epoch 52/100\n",
      "37/37 [==============================] - 26s 707ms/step - loss: 0.1401 - acc: 0.9495 - val_loss: 0.7746 - val_acc: 0.8096\n",
      "Epoch 53/100\n",
      "37/37 [==============================] - 26s 699ms/step - loss: 0.1279 - acc: 0.9534 - val_loss: 0.8127 - val_acc: 0.8011\n",
      "Epoch 54/100\n",
      "37/37 [==============================] - 26s 702ms/step - loss: 0.1361 - acc: 0.9496 - val_loss: 0.7897 - val_acc: 0.8114\n",
      "Epoch 55/100\n",
      "37/37 [==============================] - 26s 712ms/step - loss: 0.1195 - acc: 0.9574 - val_loss: 0.7846 - val_acc: 0.8028\n",
      "Epoch 56/100\n",
      "37/37 [==============================] - 26s 706ms/step - loss: 0.1195 - acc: 0.9579 - val_loss: 0.7762 - val_acc: 0.8088\n",
      "Epoch 57/100\n",
      "37/37 [==============================] - 26s 711ms/step - loss: 0.1149 - acc: 0.9594 - val_loss: 0.8224 - val_acc: 0.8092\n",
      "Epoch 58/100\n",
      "37/37 [==============================] - 26s 704ms/step - loss: 0.1028 - acc: 0.9622 - val_loss: 0.8714 - val_acc: 0.7930\n",
      "Epoch 59/100\n",
      "37/37 [==============================] - 26s 704ms/step - loss: 0.1129 - acc: 0.9617 - val_loss: 0.8755 - val_acc: 0.7977\n",
      "Epoch 60/100\n",
      "37/37 [==============================] - 26s 707ms/step - loss: 0.1218 - acc: 0.9570 - val_loss: 0.8102 - val_acc: 0.8071\n",
      "Epoch 61/100\n",
      "37/37 [==============================] - 26s 704ms/step - loss: 0.1056 - acc: 0.9641 - val_loss: 0.8107 - val_acc: 0.7883\n"
     ]
    },
    {
     "name": "stdout",
     "output_type": "stream",
     "text": [
      "Epoch 62/100\n",
      "37/37 [==============================] - 26s 708ms/step - loss: 0.1044 - acc: 0.9625 - val_loss: 0.8483 - val_acc: 0.8007\n",
      "Epoch 63/100\n",
      "37/37 [==============================] - 26s 691ms/step - loss: 0.0997 - acc: 0.9646 - val_loss: 0.8866 - val_acc: 0.8109\n",
      "Epoch 64/100\n",
      "37/37 [==============================] - 26s 705ms/step - loss: 0.0929 - acc: 0.9682 - val_loss: 0.8696 - val_acc: 0.8118\n",
      "Epoch 65/100\n",
      "37/37 [==============================] - 26s 704ms/step - loss: 0.0924 - acc: 0.9680 - val_loss: 0.9076 - val_acc: 0.8109\n",
      "Epoch 66/100\n",
      "37/37 [==============================] - 26s 691ms/step - loss: 0.0887 - acc: 0.9690 - val_loss: 0.8650 - val_acc: 0.8050\n",
      "Epoch 67/100\n",
      "37/37 [==============================] - 26s 705ms/step - loss: 0.0953 - acc: 0.9657 - val_loss: 0.9552 - val_acc: 0.7968\n",
      "Epoch 68/100\n",
      "37/37 [==============================] - 26s 703ms/step - loss: 0.0898 - acc: 0.9666 - val_loss: 0.9062 - val_acc: 0.8054\n",
      "Epoch 69/100\n",
      "37/37 [==============================] - 26s 699ms/step - loss: 0.0922 - acc: 0.9646 - val_loss: 0.9101 - val_acc: 0.8101\n",
      "Epoch 70/100\n",
      "37/37 [==============================] - 26s 712ms/step - loss: 0.0857 - acc: 0.9725 - val_loss: 0.9439 - val_acc: 0.7934\n",
      "Epoch 71/100\n",
      "37/37 [==============================] - 26s 691ms/step - loss: 0.0818 - acc: 0.9717 - val_loss: 0.9174 - val_acc: 0.8084\n",
      "Epoch 72/100\n",
      "37/37 [==============================] - 26s 699ms/step - loss: 0.0810 - acc: 0.9721 - val_loss: 0.9132 - val_acc: 0.8020\n",
      "Epoch 73/100\n",
      "37/37 [==============================] - 26s 713ms/step - loss: 0.0757 - acc: 0.9735 - val_loss: 0.9455 - val_acc: 0.7930\n",
      "Epoch 74/100\n",
      "37/37 [==============================] - 25s 687ms/step - loss: 0.0700 - acc: 0.9755 - val_loss: 0.9979 - val_acc: 0.7981\n",
      "Epoch 75/100\n",
      "37/37 [==============================] - 26s 705ms/step - loss: 0.0803 - acc: 0.9728 - val_loss: 0.9189 - val_acc: 0.8037\n",
      "Epoch 76/100\n",
      "37/37 [==============================] - 26s 712ms/step - loss: 0.0660 - acc: 0.9775 - val_loss: 1.0972 - val_acc: 0.8003\n",
      "Epoch 77/100\n",
      "37/37 [==============================] - 26s 709ms/step - loss: 0.0768 - acc: 0.9746 - val_loss: 0.9569 - val_acc: 0.7994\n",
      "Epoch 78/100\n",
      "37/37 [==============================] - 26s 710ms/step - loss: 0.0709 - acc: 0.9759 - val_loss: 1.0064 - val_acc: 0.8003\n",
      "Epoch 79/100\n",
      "37/37 [==============================] - 26s 691ms/step - loss: 0.0700 - acc: 0.9762 - val_loss: 0.9443 - val_acc: 0.8148\n",
      "Epoch 80/100\n",
      "37/37 [==============================] - 26s 702ms/step - loss: 0.0755 - acc: 0.9730 - val_loss: 1.0409 - val_acc: 0.8071\n",
      "Epoch 81/100\n",
      "37/37 [==============================] - 26s 711ms/step - loss: 0.0633 - acc: 0.9772 - val_loss: 1.0260 - val_acc: 0.8058\n",
      "Epoch 82/100\n",
      "37/37 [==============================] - 26s 704ms/step - loss: 0.0776 - acc: 0.9734 - val_loss: 0.9495 - val_acc: 0.8032\n",
      "Epoch 83/100\n",
      "37/37 [==============================] - 26s 702ms/step - loss: 0.0709 - acc: 0.9759 - val_loss: 0.9670 - val_acc: 0.8126\n",
      "Epoch 84/100\n",
      "37/37 [==============================] - 26s 709ms/step - loss: 0.0615 - acc: 0.9797 - val_loss: 1.0369 - val_acc: 0.8067\n",
      "Epoch 85/100\n",
      "37/37 [==============================] - 26s 700ms/step - loss: 0.0670 - acc: 0.9753 - val_loss: 0.9767 - val_acc: 0.8118\n",
      "Epoch 86/100\n",
      "37/37 [==============================] - 26s 702ms/step - loss: 0.0619 - acc: 0.9780 - val_loss: 1.0463 - val_acc: 0.7998\n",
      "Epoch 87/100\n",
      "37/37 [==============================] - 26s 692ms/step - loss: 0.0623 - acc: 0.9792 - val_loss: 1.0623 - val_acc: 0.7964\n",
      "Epoch 88/100\n",
      "37/37 [==============================] - 25s 689ms/step - loss: 0.0537 - acc: 0.9811 - val_loss: 1.0705 - val_acc: 0.7968\n",
      "Epoch 89/100\n",
      "37/37 [==============================] - 26s 697ms/step - loss: 0.0686 - acc: 0.9781 - val_loss: 0.9873 - val_acc: 0.7990\n",
      "Epoch 90/100\n",
      "37/37 [==============================] - 26s 693ms/step - loss: 0.0588 - acc: 0.9809 - val_loss: 1.1080 - val_acc: 0.8007\n",
      "Epoch 91/100\n",
      "37/37 [==============================] - 26s 706ms/step - loss: 0.0564 - acc: 0.9810 - val_loss: 1.0656 - val_acc: 0.8020\n",
      "Epoch 92/100\n",
      "37/37 [==============================] - 25s 683ms/step - loss: 0.0540 - acc: 0.9812 - val_loss: 1.0718 - val_acc: 0.8067\n",
      "Epoch 93/100\n",
      "37/37 [==============================] - 26s 707ms/step - loss: 0.0597 - acc: 0.9796 - val_loss: 1.0178 - val_acc: 0.8037\n",
      "Epoch 94/100\n",
      "37/37 [==============================] - 25s 682ms/step - loss: 0.0531 - acc: 0.9812 - val_loss: 1.1078 - val_acc: 0.8041\n",
      "Epoch 95/100\n",
      "37/37 [==============================] - 26s 703ms/step - loss: 0.0629 - acc: 0.9762 - val_loss: 0.9691 - val_acc: 0.7930\n",
      "Epoch 96/100\n",
      "37/37 [==============================] - 26s 691ms/step - loss: 0.0550 - acc: 0.9805 - val_loss: 1.0901 - val_acc: 0.8037\n",
      "Epoch 97/100\n",
      "37/37 [==============================] - 27s 719ms/step - loss: 0.0622 - acc: 0.9781 - val_loss: 0.9851 - val_acc: 0.8054\n",
      "Epoch 98/100\n",
      "37/37 [==============================] - 26s 711ms/step - loss: 0.0479 - acc: 0.9837 - val_loss: 1.1095 - val_acc: 0.8041\n",
      "Epoch 99/100\n",
      "37/37 [==============================] - 26s 694ms/step - loss: 0.0589 - acc: 0.9805 - val_loss: 1.0747 - val_acc: 0.8037\n",
      "Epoch 100/100\n",
      "37/37 [==============================] - 26s 714ms/step - loss: 0.0473 - acc: 0.9837 - val_loss: 1.1054 - val_acc: 0.8045\n"
     ]
    }
   ],
   "source": [
    "hist_1 = lstm_mod1.fit(X_train, y_train,\n",
    "                    validation_split = 0.2,\n",
    "                    epochs=100, batch_size=256)"
   ]
  },
  {
   "cell_type": "code",
   "execution_count": 77,
   "metadata": {},
   "outputs": [
    {
     "name": "stdout",
     "output_type": "stream",
     "text": [
      "WARNING:tensorflow:From /home/rahul/.local/lib/python3.6/site-packages/tensorflow/python/ops/resource_variable_ops.py:1817: calling BaseResourceVariable.__init__ (from tensorflow.python.ops.resource_variable_ops) with constraint is deprecated and will be removed in a future version.\n",
      "Instructions for updating:\n",
      "If using Keras pass *_constraint arguments to layers.\n",
      "INFO:tensorflow:Assets written to: US_sentimental.tf/assets\n"
     ]
    }
   ],
   "source": [
    "lstm_mod1.save(\"US_sentimental.tf\")"
   ]
  },
  {
   "cell_type": "code",
   "execution_count": 231,
   "metadata": {},
   "outputs": [],
   "source": [
    "rev= '@VirginAmerica I &lt;3 pretty graphics. so much better than minimal iconography. :D'"
   ]
  },
  {
   "cell_type": "code",
   "execution_count": 232,
   "metadata": {},
   "outputs": [],
   "source": [
    "t.fit_on_texts(rev)\n"
   ]
  },
  {
   "cell_type": "code",
   "execution_count": 233,
   "metadata": {},
   "outputs": [],
   "source": [
    "rev_seq=t.texts_to_sequences(rev)"
   ]
  },
  {
   "cell_type": "code",
   "execution_count": 234,
   "metadata": {},
   "outputs": [],
   "source": [
    "padded_rev = pad_sequences(rev_seq, padding='post', maxlen=maxlen)"
   ]
  },
  {
   "cell_type": "code",
   "execution_count": 235,
   "metadata": {},
   "outputs": [],
   "source": [
    "class_names = np.array(['Negative', 'Neutral', 'Positive'])"
   ]
  },
  {
   "cell_type": "code",
   "execution_count": 236,
   "metadata": {},
   "outputs": [],
   "source": [
    "y_pred=lstm_mod1.predict(padded_rev)"
   ]
  },
  {
   "cell_type": "code",
   "execution_count": 237,
   "metadata": {},
   "outputs": [
    {
     "data": {
      "text/plain": [
       "1"
      ]
     },
     "execution_count": 237,
     "metadata": {},
     "output_type": "execute_result"
    }
   ],
   "source": [
    "np.argmax(y_pred[0])"
   ]
  },
  {
   "cell_type": "code",
   "execution_count": 238,
   "metadata": {},
   "outputs": [],
   "source": [
    "loss, accuracy = lstm_mod1.evaluate(X_test, y_test, verbose=False)"
   ]
  },
  {
   "cell_type": "code",
   "execution_count": 208,
   "metadata": {},
   "outputs": [
    {
     "data": {
      "text/plain": [
       "0.7930327653884888"
      ]
     },
     "execution_count": 208,
     "metadata": {},
     "output_type": "execute_result"
    }
   ],
   "source": [
    "accuracy"
   ]
  }
 ],
 "metadata": {
  "kernelspec": {
   "display_name": "Python 3",
   "language": "python",
   "name": "python3"
  },
  "language_info": {
   "codemirror_mode": {
    "name": "ipython",
    "version": 3
   },
   "file_extension": ".py",
   "mimetype": "text/x-python",
   "name": "python",
   "nbconvert_exporter": "python",
   "pygments_lexer": "ipython3",
   "version": "3.6.9"
  }
 },
 "nbformat": 4,
 "nbformat_minor": 2
}
